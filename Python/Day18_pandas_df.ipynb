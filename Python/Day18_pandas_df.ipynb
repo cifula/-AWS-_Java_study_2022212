{
 "cells": [
  {
   "cell_type": "code",
   "execution_count": 30,
   "id": "e58d870f",
   "metadata": {},
   "outputs": [],
   "source": [
    "import numpy as np\n",
    "import pandas as pd\n",
    "\n",
    "url = 'https://archive.ics.uci.edu/ml/machine-learning-databases/iris/iris.data'\n",
    "iris_df = pd.read_csv(url, header = None)"
   ]
  },
  {
   "cell_type": "code",
   "execution_count": 32,
   "id": "ff89afad",
   "metadata": {},
   "outputs": [],
   "source": [
    "iris_df.columns = list('abcde')"
   ]
  },
  {
   "cell_type": "code",
   "execution_count": 36,
   "id": "7b7f2c43",
   "metadata": {},
   "outputs": [],
   "source": [
    "iris_df['x'] = iris_df['a']/iris_df['b']"
   ]
  },
  {
   "cell_type": "code",
   "execution_count": 55,
   "id": "531a74ed",
   "metadata": {},
   "outputs": [],
   "source": [
    "# print(iris_df)\n",
    "iris_df_d = iris_df.drop(['a', 'd', 'e'], axis = 1)\n",
    "# iris_df.insert(2, 'x2', iris_df['a']/iris_df['b'])"
   ]
  },
  {
   "cell_type": "code",
   "execution_count": 54,
   "id": "20c8531f",
   "metadata": {},
   "outputs": [
    {
     "data": {
      "text/html": [
       "<div>\n",
       "<style scoped>\n",
       "    .dataframe tbody tr th:only-of-type {\n",
       "        vertical-align: middle;\n",
       "    }\n",
       "\n",
       "    .dataframe tbody tr th {\n",
       "        vertical-align: top;\n",
       "    }\n",
       "\n",
       "    .dataframe thead th {\n",
       "        text-align: right;\n",
       "    }\n",
       "</style>\n",
       "<table border=\"1\" class=\"dataframe\">\n",
       "  <thead>\n",
       "    <tr style=\"text-align: right;\">\n",
       "      <th></th>\n",
       "      <th>a</th>\n",
       "      <th>b</th>\n",
       "    </tr>\n",
       "  </thead>\n",
       "  <tbody>\n",
       "    <tr>\n",
       "      <th>1</th>\n",
       "      <td>b</td>\n",
       "      <td>F</td>\n",
       "    </tr>\n",
       "    <tr>\n",
       "      <th>2</th>\n",
       "      <td>c</td>\n",
       "      <td>Y</td>\n",
       "    </tr>\n",
       "    <tr>\n",
       "      <th>3</th>\n",
       "      <td>d</td>\n",
       "      <td>X</td>\n",
       "    </tr>\n",
       "    <tr>\n",
       "      <th>4</th>\n",
       "      <td>e</td>\n",
       "      <td>Z</td>\n",
       "    </tr>\n",
       "  </tbody>\n",
       "</table>\n",
       "</div>"
      ],
      "text/plain": [
       "   a  b\n",
       "1  b  F\n",
       "2  c  Y\n",
       "3  d  X\n",
       "4  e  Z"
      ]
     },
     "execution_count": 54,
     "metadata": {},
     "output_type": "execute_result"
    }
   ],
   "source": [
    "s1 = pd.Series(list('abcde'), index = [x for x in range(5)])\n",
    "s2 = pd.Series(list('XYZF'), index = [3, 2, 4, 1])\n",
    "df1 = pd.DataFrame({'a' : s1, 'b' : s2})\n",
    "\n",
    "df1.dropna()"
   ]
  }
 ],
 "metadata": {
  "kernelspec": {
   "display_name": "Python 3 (ipykernel)",
   "language": "python",
   "name": "python3"
  },
  "language_info": {
   "codemirror_mode": {
    "name": "ipython",
    "version": 3
   },
   "file_extension": ".py",
   "mimetype": "text/x-python",
   "name": "python",
   "nbconvert_exporter": "python",
   "pygments_lexer": "ipython3",
   "version": "3.10.9"
  }
 },
 "nbformat": 4,
 "nbformat_minor": 5
}
