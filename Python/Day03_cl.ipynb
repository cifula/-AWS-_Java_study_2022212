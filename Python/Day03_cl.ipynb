{
 "cells": [
  {
   "cell_type": "code",
   "execution_count": 3,
   "id": "1e0164e7",
   "metadata": {},
   "outputs": [
    {
     "name": "stdout",
     "output_type": "stream",
     "text": [
      "['a', 'c', 'd', 'e', 'f', 'c', 'g', 'h', 'i']\n"
     ]
    }
   ],
   "source": [
    "list_1 = list('abcdefcghi')\n",
    "list_1.remove('b')\n",
    "print(list_1)"
   ]
  },
  {
   "cell_type": "code",
   "execution_count": 28,
   "id": "35f5a603",
   "metadata": {},
   "outputs": [
    {
     "name": "stdout",
     "output_type": "stream",
     "text": [
      "['a', 'b', 'd', 'e', 'f', 'c', 'g', 'h', 'i']\n"
     ]
    }
   ],
   "source": [
    "def list_remove_all(target_list, target_value):\n",
    "    for i in range(target_list.count(target_value)):\n",
    "        target_list.remove(target_value)\n",
    "        return target_list\n",
    "        \n",
    "ret_list = list_remove_all(list('abcdefcghi'), 'c')\n",
    "print(ret_list)"
   ]
  },
  {
   "cell_type": "code",
   "execution_count": 34,
   "id": "409fc9b7",
   "metadata": {},
   "outputs": [
    {
     "name": "stdout",
     "output_type": "stream",
     "text": [
      "['a', 'b', 'c', 'c', 'c', 'c', 'c', 'c', 'd', 'd', 'c', 1, 2]\n"
     ]
    },
    {
     "data": {
      "text/plain": [
       "['a', 'b', 'd', 'd', 1, 2]"
      ]
     },
     "execution_count": 34,
     "metadata": {},
     "output_type": "execute_result"
    }
   ],
   "source": [
    "class mylist(list):\n",
    "    def remove_all(self, target_value):\n",
    "        while target_value in self:\n",
    "            self.remove(target_value)\n",
    "        return self\n",
    "mylist_1 = mylist(list('abccccccddc'))\n",
    "mylist_1.append(1)\n",
    "mylist_1.append(2)\n",
    "print(mylist_1)\n",
    "\n",
    "mylist_1.remove_all('c')"
   ]
  }
 ],
 "metadata": {
  "kernelspec": {
   "display_name": "Python 3 (ipykernel)",
   "language": "python",
   "name": "python3"
  },
  "language_info": {
   "codemirror_mode": {
    "name": "ipython",
    "version": 3
   },
   "file_extension": ".py",
   "mimetype": "text/x-python",
   "name": "python",
   "nbconvert_exporter": "python",
   "pygments_lexer": "ipython3",
   "version": "3.10.9"
  }
 },
 "nbformat": 4,
 "nbformat_minor": 5
}
