{
 "cells": [
  {
   "cell_type": "code",
   "execution_count": 125,
   "id": "24e8fe5c",
   "metadata": {},
   "outputs": [
    {
     "name": "stdout",
     "output_type": "stream",
     "text": [
      "[4, 2, 6, 1, 3, 5]\n"
     ]
    }
   ],
   "source": [
    "import random\n",
    "\n",
    "lista = [1,2,3,4,5,6]\n",
    "random.shuffle(lista)\n",
    "print(lista)"
   ]
  },
  {
   "cell_type": "code",
   "execution_count": 137,
   "id": "64ab2928",
   "metadata": {},
   "outputs": [],
   "source": [
    "suits = ['Clover', 'Diamond', 'Heart', 'Spade']\n",
    "rank = ['Ace', 'Jack', 'Queen', 'King']\n",
    "for i in range(2,11):\n",
    "    rank.insert(i-1, str(i))"
   ]
  },
  {
   "cell_type": "code",
   "execution_count": 138,
   "id": "b3298d0c",
   "metadata": {},
   "outputs": [],
   "source": [
    "Deck = []\n",
    "for suit in suits:\n",
    "    for r in rank:\n",
    "        Deck.append((suit + \"-\" + r))\n",
    "        \n",
    "score_list = [i + 1 for i in range(10)]\n",
    "score_list = score_list + [10] * 3\n",
    "score_list = score_list * 4\n",
    "score_dict = dict(zip(Deck, score_list))"
   ]
  },
  {
   "cell_type": "code",
   "execution_count": 44,
   "id": "15c5c634",
   "metadata": {},
   "outputs": [
    {
     "name": "stdout",
     "output_type": "stream",
     "text": [
      "['Diamond-9', 'Diamond-8', 'Spade-5', 'Clover-7', 'Spade-Jack', 'Clover-Ace', 'Clover-4', 'Diamond-King', 'Heart-Jack', 'Spade-King', 'Spade-7', 'Clover-10', 'Diamond-4', 'Heart-4', 'Clover-King', 'Clover-3', 'Spade-6', 'Heart-5', 'Spade-2', 'Clover-8', 'Heart-Queen', 'Diamond-10', 'Heart-9', 'Heart-Ace', 'Heart-7', 'Diamond-Queen', 'Heart-3', 'Heart-King', 'Clover-5', 'Spade-Ace', 'Clover-Jack', 'Diamond-Ace', 'Clover-2', 'Spade-8', 'Heart-8', 'Diamond-2', 'Spade-Queen', 'Diamond-3', 'Spade-9', 'Diamond-7', 'Heart-6', 'Clover-Queen', 'Clover-6', 'Heart-10', 'Diamond-Jack', 'Diamond-6', 'Spade-3', 'Spade-4', 'Diamond-5', 'Spade-10', 'Clover-9', 'Heart-2']\n"
     ]
    }
   ],
   "source": [
    "random.shuffle(Deck)\n",
    "print(Deck)"
   ]
  },
  {
   "cell_type": "code",
   "execution_count": 52,
   "id": "4fc0d6d5",
   "metadata": {},
   "outputs": [
    {
     "data": {
      "text/plain": [
       "'Diamond-Jack'"
      ]
     },
     "execution_count": 52,
     "metadata": {},
     "output_type": "execute_result"
    }
   ],
   "source": [
    "Deck.pop()"
   ]
  },
  {
   "cell_type": "code",
   "execution_count": 139,
   "id": "9f3b63ee",
   "metadata": {},
   "outputs": [],
   "source": [
    "def game():\n",
    "    player_hands = []\n",
    "    dealer_hands = []\n",
    "    game_Deck = []\n",
    "    game_Deck = Deck[:]\n",
    "    \n",
    "    print(game_Deck)\n",
    "    \n",
    "    print('Game Start')\n",
    "    random.shuffle(game_Deck)\n",
    "    \n",
    "    for i in range(2):\n",
    "        dealer_hands.append(game_Deck.pop())\n",
    "    \n",
    "    for i in range(2):\n",
    "        player_hands.append(game_Deck.pop())\n",
    "        \n",
    "    dealer_score = score_hand(dealer_hands)\n",
    "    \n",
    "    player_score = score_hand(player_hands)\n",
    "        \n",
    "    print('\\nDealer Hands')\n",
    "    print(dealer_hands, dealer_score)\n",
    "    \n",
    "    print('\\nPlayer Hands')\n",
    "    print(player_hands, player_score)\n",
    "    \n",
    "    if score_hand(player_hands) < 21:\n",
    "        ans = input('\\nDeal(1) or Stop(0):')\n",
    "        \n",
    "    if ans == '1':\n",
    "        player_hands.append(game_Deck.pop())\n",
    "        player_score = score_hand(player_hands)\n",
    "     \n",
    "        print('============================')\n",
    "    \n",
    "        print('Dealer Hands')\n",
    "        print(dealer_hands, dealer_score)\n",
    "    \n",
    "        print('\\nPlayer Hands')\n",
    "        print(player_hands, player_score)\n",
    "    \n",
    "    print('============================')\n",
    "    \n",
    "    \n",
    "    if (player_score > 21):\n",
    "        print('Dealer Win!')\n",
    "    elif (player_score < dealer_score):\n",
    "        print('Dealer Win!')\n",
    "    elif (player_score == dealer_score):\n",
    "        print('Dealer Win!')\n",
    "    elif (player_score > dealer_score):\n",
    "        print('Player Win!')\n",
    "        \n",
    "\n",
    "def score_hand(hand):\n",
    "    score = 0\n",
    "    for card in hand:\n",
    "        score = score + score_dict[card]\n",
    "    return score"
   ]
  },
  {
   "cell_type": "code",
   "execution_count": null,
   "id": "9fffd3a3",
   "metadata": {},
   "outputs": [],
   "source": [
    "game()"
   ]
  }
 ],
 "metadata": {
  "kernelspec": {
   "display_name": "Python 3 (ipykernel)",
   "language": "python",
   "name": "python3"
  },
  "language_info": {
   "codemirror_mode": {
    "name": "ipython",
    "version": 3
   },
   "file_extension": ".py",
   "mimetype": "text/x-python",
   "name": "python",
   "nbconvert_exporter": "python",
   "pygments_lexer": "ipython3",
   "version": "3.10.9"
  }
 },
 "nbformat": 4,
 "nbformat_minor": 5
}
