{
 "cells": [
  {
   "cell_type": "code",
   "execution_count": 5,
   "id": "0db3c0f0",
   "metadata": {},
   "outputs": [],
   "source": [
    "data_list = []\n",
    "with open('data/전국건강증진센터표준데이터.csv') as f:\n",
    "    for line in f:\n",
    "        data_list.append(line.split(','))\n",
    "data_list = data_list[1:]"
   ]
  },
  {
   "cell_type": "code",
   "execution_count": 14,
   "id": "29d19685",
   "metadata": {},
   "outputs": [
    {
     "name": "stdout",
     "output_type": "stream",
     "text": [
      "경기도: 65\n",
      "광주광역시: 11\n",
      "울산광역시: 7\n",
      "충청북도: 12\n",
      "부산광역시: 18\n",
      "제주특별자치도: 10\n",
      "세종특별자치시: 1\n",
      "인천광역시: 15\n",
      "경상북도: 21\n",
      "경북: 1\n",
      "충청남도: 16\n",
      "대전광역시: 10\n",
      "강원도: 16\n",
      "서울특별시: 26\n",
      "전라북도: 14\n",
      "전라남도: 20\n",
      "대구광역시: 8\n",
      "경상남도: 20\n",
      "{'경기도': 65, '광주광역시': 11, '울산광역시': 7, '충청북도': 12, '부산광역시': 18, '제주특별자치도': 10, '세종특별자치시': 1, '인천광역시': 15, '경상북도': 21, '경북': 1, '충청남도': 16, '대전광역시': 10, '강원도': 16, '서울특별시': 26, '전라북도': 14, '전라남도': 20, '대구광역시': 8, '경상남도': 20}\n"
     ]
    }
   ],
   "source": [
    "r_sido_list = []\n",
    "address_list = []\n",
    "for i in data_list:\n",
    "    address_list.append(i[2].split())\n",
    "    address = i[2]\n",
    "    address_list = address.split()\n",
    "    r_sido_list.append(address_list[0])\n",
    "\n",
    "\n",
    "sido_list = []\n",
    "for i in r_sido_list:\n",
    "    sido_list.append(i.replace('\"', \"\"))\n",
    "    \n",
    "sido_set = set(sido_list)\n",
    "\n",
    "d_sido_list = []\n",
    "d_sido_count = []\n",
    "for i in sido_set:\n",
    "    d_sido_list.append(i)\n",
    "    d_sido_count.append(sido_list.count(i))\n",
    "\n",
    "for i in sido_set:\n",
    "    print(i + \":\", sido_list.count(i))\n",
    "    \n",
    "name_list = dict(zip(d_sido_list, d_sido_count))\n",
    "\n",
    "print(name_list)"
   ]
  },
  {
   "cell_type": "code",
   "execution_count": 19,
   "id": "cacd6611",
   "metadata": {},
   "outputs": [
    {
     "data": {
      "text/plain": [
       "{'경기도': 65,\n",
       " '광주광역시': 11,\n",
       " '울산광역시': 7,\n",
       " '충청북도': 12,\n",
       " '부산광역시': 18,\n",
       " '제주특별자치도': 10,\n",
       " '세종특별자치시': 1,\n",
       " '인천광역시': 15,\n",
       " '경상북도': 21,\n",
       " '경북': 1,\n",
       " '충청남도': 16,\n",
       " '대전광역시': 10,\n",
       " '강원도': 16,\n",
       " '서울특별시': 26,\n",
       " '전라북도': 14,\n",
       " '전라남도': 20,\n",
       " '대구광역시': 8,\n",
       " '경상남도': 20}"
      ]
     },
     "execution_count": 19,
     "metadata": {},
     "output_type": "execute_result"
    }
   ],
   "source": [
    "def unique_count(raw_list, sort = False):\n",
    "    raw_set = set(raw_list)\n",
    "    k_list = []\n",
    "    v_list = []\n",
    "    for i in raw_set:\n",
    "        k_list.append(i)\n",
    "        v_list.append(raw_list.count(i))\n",
    "        \n",
    "    ret_dict = dict(zip(k_list, v_list))\n",
    "    if sort == True:\n",
    "        ret_dict = dict(sorted(ret_dict.items(), key = lambda x: x[1]))\n",
    "    return ret_dict\n",
    "\n",
    "unique_count(sido_list)"
   ]
  }
 ],
 "metadata": {
  "kernelspec": {
   "display_name": "Python 3 (ipykernel)",
   "language": "python",
   "name": "python3"
  },
  "language_info": {
   "codemirror_mode": {
    "name": "ipython",
    "version": 3
   },
   "file_extension": ".py",
   "mimetype": "text/x-python",
   "name": "python",
   "nbconvert_exporter": "python",
   "pygments_lexer": "ipython3",
   "version": "3.10.9"
  }
 },
 "nbformat": 4,
 "nbformat_minor": 5
}
