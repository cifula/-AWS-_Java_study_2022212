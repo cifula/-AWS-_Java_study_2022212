{
 "cells": [
  {
   "cell_type": "code",
   "execution_count": 3,
   "id": "87e0a72d",
   "metadata": {},
   "outputs": [],
   "source": [
    "import numpy as np\n",
    "import math\n",
    "\n",
    "def my_split(s):\n",
    "    block_start = False\n",
    "    start_index = 0\n",
    "    ret_list=[]\n",
    "    for i, c in enumerate(s):\n",
    "        if block_start==False:\n",
    "            if c==',':\n",
    "                ret_list.append(s[start_index:i])\n",
    "                start_index=i+1\n",
    "            elif c=='\"':\n",
    "                block_start=True\n",
    "                start_index = i\n",
    "        else:\n",
    "            if c=='\"':\n",
    "                block_start=False\n",
    "    if s[-1]!=',':\n",
    "        ret_list.append(s[start_index:])\n",
    "    return ret_list\n",
    "\n",
    "def split_len(data_list):\n",
    "    len_list=[]\n",
    "    for e in data_list:\n",
    "        len_list.append(len(e))\n",
    "    print(set(len_list))\n",
    "    if len(set(len_list))>1:\n",
    "        for i in set(len_list):\n",
    "            print(i, len_list.count(i))\n",
    "\n",
    "def dist_np(p1, p2): #  [3,10]  [5,25]\n",
    "    return math.sqrt(sum((p2-p1)**2))\n",
    "\n",
    "import math\n",
    "\n",
    "def mean(num_list):\n",
    "    sum_value = 0\n",
    "    for s in num_list:\n",
    "        sum_value += s\n",
    "    return sum_value / len(num_list)\n",
    "\n",
    "def dev(num_list):\n",
    "    m = mean(num_list)\n",
    "    return [x - m for x in num_list]\n",
    "\n",
    "def var(num_list):\n",
    "    n = len(num_list)\n",
    "    d = dev(num_list)\n",
    "    return sum([x*x for x in d])/(n-1)\n",
    "\n",
    "def stdev(num_list):\n",
    "    return math.sqrt(var(num_list))\n",
    "\n",
    "def covar(list_1, list_2):\n",
    "    n = len(list_1)\n",
    "    list_1_dev = dev(list_1)\n",
    "    list_2_dev = dev(list_2)\n",
    "    return sum(x * y for x, y in zip(list_1_dev, list_2_dev)) / (n-1)\n",
    "\n",
    "def corel(list_1, list_2):\n",
    "    return covar(list_1, list_2) / (stdev(list_1) * stdev(list_2))"
   ]
  },
  {
   "cell_type": "code",
   "execution_count": 4,
   "id": "f723a7c3",
   "metadata": {},
   "outputs": [],
   "source": [
    "csv_data = []\n",
    "with open('data/전국육교정보표준데이터.csv') as f:\n",
    "    for line in f:\n",
    "        csv_data.append(my_split(line[:-1]))"
   ]
  },
  {
   "cell_type": "code",
   "execution_count": 5,
   "id": "cc22de92",
   "metadata": {},
   "outputs": [
    {
     "name": "stdout",
     "output_type": "stream",
     "text": [
      "[['0' '육교명']\n",
      " ['1' '도로종류']\n",
      " ['2' '도로노선번호']\n",
      " ['3' '도로노선명']\n",
      " ['4' '소재지도로명주소']\n",
      " ['5' '위도']\n",
      " ['6' '경도']\n",
      " ['7' '육교연장']\n",
      " ['8' '육교높이']\n",
      " ['9' '허용통행하중']\n",
      " ['10' '통행제한높이']\n",
      " ['11' '육교폭']\n",
      " ['12' '난간높이']\n",
      " ['13' '조명개수']\n",
      " ['14' '장애인편의시설설치여부']\n",
      " ['15' '장애인편의시설종류']\n",
      " ['16' '장애인편의시설수량']\n",
      " ['17' '부대시설종류']\n",
      " ['18' '부대시설수량']\n",
      " ['19' '육교준공일자']\n",
      " ['20' '내진설계적용여부']\n",
      " ['21' '안전등급']\n",
      " ['22' '사용제한구분']\n",
      " ['23' '육교보수보강내역']\n",
      " ['24' '최종안전점검유형']\n",
      " ['25' '최종안전점검일자']\n",
      " ['26' '관리기관명']\n",
      " ['27' '데이터기준일자']\n",
      " ['28' '제공기관코드']\n",
      " ['29' '제공기관명']]\n"
     ]
    }
   ],
   "source": [
    "csv_data_index = []\n",
    "for i, index in enumerate(csv_data[0]):\n",
    "    csv_data_index.append([i, index])\n",
    "\n",
    "csv_data_index = np.array(csv_data_index)\n",
    "    \n",
    "print(csv_data_index)"
   ]
  },
  {
   "cell_type": "code",
   "execution_count": 7,
   "id": "c4dacce7",
   "metadata": {},
   "outputs": [
    {
     "ename": "TypeError",
     "evalue": "unhashable type: 'list'",
     "output_type": "error",
     "traceback": [
      "\u001b[1;31m---------------------------------------------------------------------------\u001b[0m",
      "\u001b[1;31mTypeError\u001b[0m                                 Traceback (most recent call last)",
      "Cell \u001b[1;32mIn[7], line 5\u001b[0m\n\u001b[0;32m      2\u001b[0m \u001b[38;5;28;01mfor\u001b[39;00m data \u001b[38;5;129;01min\u001b[39;00m csv_data:\n\u001b[0;32m      3\u001b[0m     r_data\u001b[38;5;241m.\u001b[39mappend(data)\n\u001b[1;32m----> 5\u001b[0m \u001b[38;5;28mprint\u001b[39m(\u001b[38;5;28;43mset\u001b[39;49m\u001b[43m(\u001b[49m\u001b[43mr_data\u001b[49m\u001b[43m)\u001b[49m)\n",
      "\u001b[1;31mTypeError\u001b[0m: unhashable type: 'list'"
     ]
    }
   ],
   "source": [
    "r_data = []\n",
    "for data in csv_data:\n",
    "    r_data.append(data)\n",
    "\n",
    "print(set(r_data))\n",
    "    "
   ]
  },
  {
   "cell_type": "code",
   "execution_count": 8,
   "id": "cfceb6c5",
   "metadata": {},
   "outputs": [
    {
     "data": {
      "text/plain": [
       "'육교준공일자'"
      ]
     },
     "execution_count": 8,
     "metadata": {},
     "output_type": "execute_result"
    }
   ],
   "source": [
    "csv_data[0][19]"
   ]
  },
  {
   "cell_type": "code",
   "execution_count": 9,
   "id": "f0b90840",
   "metadata": {},
   "outputs": [],
   "source": [
    "csv_data = csv_data[1:]"
   ]
  },
  {
   "cell_type": "code",
   "execution_count": 10,
   "id": "b9a3b36c",
   "metadata": {},
   "outputs": [
    {
     "name": "stdout",
     "output_type": "stream",
     "text": [
      "0.19279907084785133\n"
     ]
    }
   ],
   "source": [
    "# 내진설계된 육교의 비율\n",
    "SD_list = []\n",
    "for data in csv_data:\n",
    "    SD_list.append(data[20])\n",
    "    \n",
    "print(SD_list.count('Y') / (SD_list.count('Y') + SD_list.count('N')))"
   ]
  },
  {
   "cell_type": "code",
   "execution_count": 11,
   "id": "1fc90b62",
   "metadata": {},
   "outputs": [
    {
     "name": "stdout",
     "output_type": "stream",
     "text": [
      "[['불량' '1' '0.0008210180623973727']\n",
      " ['우수' '7' '0.005747126436781609']\n",
      " ['보통' '390' '0.32019704433497537']\n",
      " ['미흡' '25' '0.020525451559934318']\n",
      " ['양호' '795' '0.6527093596059114']]\n"
     ]
    }
   ],
   "source": [
    "# 안전등급별 육교 갯수, 비율\n",
    "rating_data = []\n",
    "for data in csv_data:\n",
    "    rating_data.append(data[21])\n",
    "\n",
    "rating_set = set(rating_data)\n",
    "\n",
    "\n",
    "\n",
    "rating_count = []\n",
    "\n",
    "for rs in rating_set:\n",
    "    rs_str = rs\n",
    "    rs_count = rating_data.count(rs)\n",
    "    rs_ratio = rs_count/len(rating_data)\n",
    "    rating_count.append([rs_str, rs_count, rs_ratio])\n",
    "    \n",
    "\n",
    "np_rating_count = np.array(rating_count)\n",
    "print(np_rating_count)"
   ]
  },
  {
   "cell_type": "code",
   "execution_count": 88,
   "id": "ad7af990",
   "metadata": {},
   "outputs": [
    {
     "name": "stdout",
     "output_type": "stream",
     "text": [
      "0.7443305866380039\n"
     ]
    }
   ],
   "source": [
    "# 준공연도, 장애인편의시설 여부 상관관계\n",
    "YC_data = []\n",
    "for data in csv_data:\n",
    "    comp = data[14]\n",
    "    year = data[19]\n",
    "    try:\n",
    "        year = int(year[:4])\n",
    "        YC_data.append([comp, year])\n",
    "    except:\n",
    "        pass\n",
    "    \n",
    "year_data = []\n",
    "\n",
    "for year in YC_data:\n",
    "    year_data.append(year[1])\n",
    "\n",
    "year_set = set(year_data)\n",
    "\n",
    "year_result = []\n",
    "year_ratio =[]\n",
    "for ys in year_set:\n",
    "    year_total = year_data.count(ys)\n",
    "    \n",
    "    n_year = []\n",
    "    for year in YC_data:\n",
    "        if year[1] == ys:\n",
    "            n_year.append(year)\n",
    "    \n",
    "    year_Y = []\n",
    "    for x in n_year:\n",
    "        if x[0] == 'Y':\n",
    "            year_Y.append(x)\n",
    "            \n",
    "    year_Y_total = len(year_Y)\n",
    "    \n",
    "    year_result.append(ys)\n",
    "    year_ratio.append(year_Y_total/year_total)\n",
    "    \n",
    "print(corel(year_result, year_ratio))"
   ]
  },
  {
   "cell_type": "code",
   "execution_count": 1,
   "id": "12d69a4f",
   "metadata": {},
   "outputs": [],
   "source": [
    "from scipy import stats\n"
   ]
  }
 ],
 "metadata": {
  "kernelspec": {
   "display_name": "Python 3 (ipykernel)",
   "language": "python",
   "name": "python3"
  },
  "language_info": {
   "codemirror_mode": {
    "name": "ipython",
    "version": 3
   },
   "file_extension": ".py",
   "mimetype": "text/x-python",
   "name": "python",
   "nbconvert_exporter": "python",
   "pygments_lexer": "ipython3",
   "version": "3.10.9"
  }
 },
 "nbformat": 4,
 "nbformat_minor": 5
}
