{
 "cells": [
  {
   "cell_type": "code",
   "execution_count": 23,
   "id": "ecbbdb12",
   "metadata": {},
   "outputs": [
    {
     "name": "stdout",
     "output_type": "stream",
     "text": [
      "abcdefg\n"
     ]
    }
   ],
   "source": [
    "# 문자열\n",
    "s = 'abcdef'\n",
    "s = 'abcdefg'\n",
    "print(s)"
   ]
  },
  {
   "cell_type": "code",
   "execution_count": 30,
   "id": "7aac216f",
   "metadata": {},
   "outputs": [
    {
     "name": "stdout",
     "output_type": "stream",
     "text": [
      "c\n",
      "cdefg\n",
      "ceg\n"
     ]
    }
   ],
   "source": [
    "print(s[2])\n",
    "print(s[2:7])\n",
    "print(s[2:7:2])"
   ]
  },
  {
   "cell_type": "code",
   "execution_count": 33,
   "id": "0d76982b",
   "metadata": {},
   "outputs": [
    {
     "name": "stdout",
     "output_type": "stream",
     "text": [
      "head def tail 10\n"
     ]
    }
   ],
   "source": [
    "a = 10\n",
    "b = 'def'\n",
    "\n",
    "s = \"head {} tail {}\".format(b, a)\n",
    "print(s)"
   ]
  },
  {
   "cell_type": "code",
   "execution_count": 46,
   "id": "eed1713f",
   "metadata": {},
   "outputs": [
    {
     "name": "stdout",
     "output_type": "stream",
     "text": [
      "['Return', 'a', 'list', 'of', 'the', 'substrings', 'in', 'the', 'string,', 'using', 'sep', 'as', 'the', 'separator']\n"
     ]
    }
   ],
   "source": [
    "s = 'Return a list of the substrings in the string, using sep as the separator'\n",
    "print(s.split())"
   ]
  }
 ],
 "metadata": {
  "kernelspec": {
   "display_name": "Python 3 (ipykernel)",
   "language": "python",
   "name": "python3"
  },
  "language_info": {
   "codemirror_mode": {
    "name": "ipython",
    "version": 3
   },
   "file_extension": ".py",
   "mimetype": "text/x-python",
   "name": "python",
   "nbconvert_exporter": "python",
   "pygments_lexer": "ipython3",
   "version": "3.10.9"
  }
 },
 "nbformat": 4,
 "nbformat_minor": 5
}
