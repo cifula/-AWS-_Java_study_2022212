{
 "cells": [
  {
   "cell_type": "code",
   "execution_count": 3,
   "id": "c2c263c8",
   "metadata": {},
   "outputs": [],
   "source": [
    "import numpy as np\n",
    "import math\n",
    "\n",
    "def my_split(s):\n",
    "    block_start = False\n",
    "    start_index = 0\n",
    "    ret_list=[]\n",
    "    for i, c in enumerate(s):\n",
    "        if block_start==False:\n",
    "            if c==',':\n",
    "                ret_list.append(s[start_index:i])\n",
    "                start_index=i+1\n",
    "            elif c=='\"':\n",
    "                block_start=True\n",
    "                start_index = i\n",
    "        else:\n",
    "            if c=='\"':\n",
    "                block_start=False\n",
    "    if s[-1]!=',':\n",
    "        ret_list.append(s[start_index:])\n",
    "    return ret_list\n",
    "\n",
    "def split_len(data_list):\n",
    "    len_list=[]\n",
    "    for e in data_list:\n",
    "        len_list.append(len(e))\n",
    "    print(set(len_list))\n",
    "    if len(set(len_list))>1:\n",
    "        for i in set(len_list):\n",
    "            print(i, len_list.count(i))\n",
    "\n",
    "def dist_np(p1, p2): #  [3,10]  [5,25]\n",
    "    return math.sqrt(sum((p2-p1)**2))"
   ]
  },
  {
   "cell_type": "code",
   "execution_count": 4,
   "id": "94473cdf",
   "metadata": {},
   "outputs": [],
   "source": [
    "csv_data = []\n",
    "with open('data/전국공인중개사사무소표준데이터.csv') as f:\n",
    "    for line in f:\n",
    "        csv_data.append(my_split(line[:-1]))\n",
    "        \n",
    "csv_data_header = csv_data[0]\n",
    "csv_data = csv_data[1:]"
   ]
  },
  {
   "cell_type": "markdown",
   "id": "5c905367",
   "metadata": {},
   "source": [
    "공인중개사 / 개업공인중개사 비율\n",
    "=> index [2]에서 공인중개사 count, 개업공인중개사 count\n",
    "\n",
    "공제미가입 중개사 count, 전체 대비 비율\n",
    "=> index [7] 에서 Y count, 전체 count"
   ]
  },
  {
   "cell_type": "code",
   "execution_count": 5,
   "id": "9c07dbfa",
   "metadata": {},
   "outputs": [
    {
     "name": "stdout",
     "output_type": "stream",
     "text": [
      "0.8089141611903709\n"
     ]
    }
   ],
   "source": [
    "typeList = []\n",
    "for x in csv_data:\n",
    "    typeList.append(x[2])\n",
    "    \n",
    "type_set = list(set(typeList))\n",
    "\n",
    "typeCount = {}\n",
    "for typeA in type_set:\n",
    "    type_str = typeA\n",
    "    count_num = typeList.count(typeA)\n",
    "    \n",
    "    typeCount[type_str] = count_num\n",
    "    \n",
    "# 공인중개사 / 개업공인중개사\n",
    "\n",
    "print(typeCount['공인중개사'] / (typeCount['개업공인중개사'] + typeCount['공인중개사'] + typeCount['법인']))"
   ]
  },
  {
   "cell_type": "code",
   "execution_count": 6,
   "id": "ec27e273",
   "metadata": {},
   "outputs": [
    {
     "data": {
      "text/plain": [
       "0.9989785147604617"
      ]
     },
     "execution_count": 6,
     "metadata": {},
     "output_type": "execute_result"
    }
   ],
   "source": [
    "joinList = []\n",
    "notJoinList = []\n",
    "for x in csv_data:\n",
    "    if(x[7] == 'Y'):\n",
    "        joinList.append(x[7])\n",
    "    elif(x[7] == 'N'):\n",
    "        notJoinList.append(x[7])\n",
    "        \n",
    "len(joinList) / (len(joinList) + len(notJoinList))"
   ]
  },
  {
   "cell_type": "code",
   "execution_count": 10,
   "id": "235a4bdd",
   "metadata": {},
   "outputs": [],
   "source": [
    "commonNameList = []\n",
    "unCommonNameList = []\n",
    "for x in csv_data:\n",
    "    x[0] = x[0].replace(' ', '')\n",
    "    if '공인중개사사무소' in x[0]:\n",
    "        commonNameList.append(x[0].replace('공인중개사사무소', ''))\n",
    "    elif '공인중개사사무소' not in x[0]:\n",
    "        unCommonNameList.append(x[0])\n",
    "        \n",
    "        \n",
    "commonNameList_set = set(commonNameList)\n",
    "\n",
    "nameCount = {}\n",
    "for name in commonNameList_set:\n",
    "    name_str = name\n",
    "    name_num = commonNameList.count(name)\n",
    "    \n",
    "    nameCount[name_str] = name_num"
   ]
  },
  {
   "cell_type": "code",
   "execution_count": 12,
   "id": "bbd3d724",
   "metadata": {},
   "outputs": [
    {
     "name": "stdout",
     "output_type": "stream",
     "text": [
      "[('삼성', 120), ('현대', 114), ('우리', 100), ('행운', 89), ('하나', 88), ('미래', 84), ('황금', 77), ('태양', 77), ('제일', 72), ('에이스', 71)]\n"
     ]
    }
   ],
   "source": [
    "sorted_names = sorted(nameCount.items(), key=lambda x: x[1], reverse=True)\n",
    "\n",
    "top5_names = sorted_names[:10]\n",
    "\n",
    "print(top5_names)"
   ]
  },
  {
   "cell_type": "code",
   "execution_count": null,
   "id": "5b9a5246",
   "metadata": {},
   "outputs": [],
   "source": [
    "commonNameList2 = []\n",
    "for x in unCommonNameList:\n",
    "    x = x.replace(' ', '')\n",
    "    if '부동산중개' in x[0]:\n",
    "        commonNameList.append(x[0].replace('부동산중개', ''))\n",
    "    elif '공인중개사사무소' not in x[0]:\n",
    "        unCommonNameList.append(x[0])"
   ]
  }
 ],
 "metadata": {
  "kernelspec": {
   "display_name": "Python 3 (ipykernel)",
   "language": "python",
   "name": "python3"
  },
  "language_info": {
   "codemirror_mode": {
    "name": "ipython",
    "version": 3
   },
   "file_extension": ".py",
   "mimetype": "text/x-python",
   "name": "python",
   "nbconvert_exporter": "python",
   "pygments_lexer": "ipython3",
   "version": "3.10.9"
  }
 },
 "nbformat": 4,
 "nbformat_minor": 5
}
