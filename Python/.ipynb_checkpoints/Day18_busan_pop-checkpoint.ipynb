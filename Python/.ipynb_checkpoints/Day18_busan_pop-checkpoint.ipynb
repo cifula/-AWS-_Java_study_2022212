{
 "cells": [
  {
   "cell_type": "code",
   "execution_count": 44,
   "id": "3a5b0f9a",
   "metadata": {},
   "outputs": [],
   "source": [
    "import numpy as np\n",
    "import pandas as pd\n",
    "import matplotlib.pyplot as plt"
   ]
  },
  {
   "cell_type": "code",
   "execution_count": 48,
   "id": "3e8cfd82",
   "metadata": {},
   "outputs": [
    {
     "name": "stdout",
     "output_type": "stream",
     "text": [
      "     시점 세대수 (세대)   인구 (명) 인구 (명).1 인구 (명).2  한국인 (명) 외국인 (명)    인구밀도\n",
      "0    시점       소계       소계        남        여       소계      소계  면적 (㎢)\n",
      "1  2018  1480468  3494019  1721327  1772692  3441453   52566  769.94\n",
      "2  2019  1497908  3466563  1704098  1762465  3413841   52722  770.07\n",
      "3  2020  1530431  3438710  1686412  1752298  3391946   46764  770.07\n"
     ]
    }
   ],
   "source": [
    "pop_df = pd.read_csv('data/등록인구추이_20230223163302.csv', encoding = 'cp949')\n",
    "print(pop_df.head())"
   ]
  },
  {
   "cell_type": "code",
   "execution_count": 49,
   "id": "1c95fbbd",
   "metadata": {},
   "outputs": [],
   "source": [
    "pop_df.drop(0, axis = 0, inplace = True)\n",
    "pop_df.drop('인구 (명)', axis = 1, inplace = True)\n",
    "pop_df.columns = ['시점', '세대수', '인구_남', '인구_여', '한국인', '외국인', '인구밀도']"
   ]
  },
  {
   "cell_type": "code",
   "execution_count": 71,
   "id": "d803611c",
   "metadata": {},
   "outputs": [],
   "source": [
    "for columns in pop_df.columns:\n",
    "    pop_df[columns] = pd.to_numeric(pop_df[columns])"
   ]
  },
  {
   "cell_type": "code",
   "execution_count": 78,
   "id": "f99c21c0",
   "metadata": {},
   "outputs": [],
   "source": [
    "v = pop_df['인구_남'] / pop_df['인구_여']\n",
    "pop_df.insert(4, '인구_남/여', v)"
   ]
  },
  {
   "cell_type": "code",
   "execution_count": 79,
   "id": "cd08b7c4",
   "metadata": {},
   "outputs": [
    {
     "data": {
      "text/html": [
       "<div>\n",
       "<style scoped>\n",
       "    .dataframe tbody tr th:only-of-type {\n",
       "        vertical-align: middle;\n",
       "    }\n",
       "\n",
       "    .dataframe tbody tr th {\n",
       "        vertical-align: top;\n",
       "    }\n",
       "\n",
       "    .dataframe thead th {\n",
       "        text-align: right;\n",
       "    }\n",
       "</style>\n",
       "<table border=\"1\" class=\"dataframe\">\n",
       "  <thead>\n",
       "    <tr style=\"text-align: right;\">\n",
       "      <th></th>\n",
       "      <th>시점</th>\n",
       "      <th>세대수</th>\n",
       "      <th>인구_남</th>\n",
       "      <th>인구_여</th>\n",
       "      <th>인구_남여</th>\n",
       "      <th>한국인</th>\n",
       "      <th>외국인</th>\n",
       "      <th>인구밀도</th>\n",
       "    </tr>\n",
       "  </thead>\n",
       "  <tbody>\n",
       "    <tr>\n",
       "      <th>1</th>\n",
       "      <td>2018</td>\n",
       "      <td>1480468</td>\n",
       "      <td>1721327</td>\n",
       "      <td>1772692</td>\n",
       "      <td>0.971024</td>\n",
       "      <td>3441453</td>\n",
       "      <td>52566</td>\n",
       "      <td>769.94</td>\n",
       "    </tr>\n",
       "    <tr>\n",
       "      <th>2</th>\n",
       "      <td>2019</td>\n",
       "      <td>1497908</td>\n",
       "      <td>1704098</td>\n",
       "      <td>1762465</td>\n",
       "      <td>0.966883</td>\n",
       "      <td>3413841</td>\n",
       "      <td>52722</td>\n",
       "      <td>770.07</td>\n",
       "    </tr>\n",
       "    <tr>\n",
       "      <th>3</th>\n",
       "      <td>2020</td>\n",
       "      <td>1530431</td>\n",
       "      <td>1686412</td>\n",
       "      <td>1752298</td>\n",
       "      <td>0.962400</td>\n",
       "      <td>3391946</td>\n",
       "      <td>46764</td>\n",
       "      <td>770.07</td>\n",
       "    </tr>\n",
       "  </tbody>\n",
       "</table>\n",
       "</div>"
      ],
      "text/plain": [
       "     시점      세대수     인구_남     인구_여     인구_남여      한국인    외국인    인구밀도\n",
       "1  2018  1480468  1721327  1772692  0.971024  3441453  52566  769.94\n",
       "2  2019  1497908  1704098  1762465  0.966883  3413841  52722  770.07\n",
       "3  2020  1530431  1686412  1752298  0.962400  3391946  46764  770.07"
      ]
     },
     "execution_count": 79,
     "metadata": {},
     "output_type": "execute_result"
    }
   ],
   "source": [
    "pop_df"
   ]
  }
 ],
 "metadata": {
  "kernelspec": {
   "display_name": "Python 3 (ipykernel)",
   "language": "python",
   "name": "python3"
  },
  "language_info": {
   "codemirror_mode": {
    "name": "ipython",
    "version": 3
   },
   "file_extension": ".py",
   "mimetype": "text/x-python",
   "name": "python",
   "nbconvert_exporter": "python",
   "pygments_lexer": "ipython3",
   "version": "3.10.9"
  }
 },
 "nbformat": 4,
 "nbformat_minor": 5
}
