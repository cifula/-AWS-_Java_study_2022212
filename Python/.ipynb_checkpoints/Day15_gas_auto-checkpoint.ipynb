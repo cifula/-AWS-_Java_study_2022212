{
 "cells": [
  {
   "cell_type": "code",
   "execution_count": 2,
   "id": "4ee32ce7",
   "metadata": {},
   "outputs": [],
   "source": [
    "import numpy as np\n",
    "import matplotlib.pyplot as plt\n",
    "\n",
    "np.set_printoptions(precision = 5, suppress = True)"
   ]
  },
  {
   "cell_type": "code",
   "execution_count": 4,
   "id": "83f81f97",
   "metadata": {},
   "outputs": [],
   "source": [
    "def read_data():\n",
    "    raw_data = []\n",
    "    with open('data/가스공급량_20230217170856.csv') as f:\n",
    "        for line in f:\n",
    "            raw_data.append(line[:-1].split(','))\n",
    "    np_data = np.array(raw_data[2:])\n",
    "    np_data = np_data[:, 2:].astype(np.int64)\n",
    "    return np_data\n",
    "\n",
    "def get_corr(np_data):\n",
    "    by_year = np.add.reduceat(np_data, np.arange(10, 130, 12))\n",
    "    return np.corrcoef(by_year[:, 1], by_year[:, 5])"
   ]
  },
  {
   "cell_type": "code",
   "execution_count": 5,
   "id": "e4950b71",
   "metadata": {},
   "outputs": [
    {
     "data": {
      "text/plain": [
       "array([[ 1.    , -0.6853],\n",
       "       [-0.6853,  1.    ]])"
      ]
     },
     "execution_count": 5,
     "metadata": {},
     "output_type": "execute_result"
    }
   ],
   "source": [
    "d = read_data()\n",
    "out = get_corr(d)\n",
    "\n",
    "print(out)"
   ]
  }
 ],
 "metadata": {
  "kernelspec": {
   "display_name": "Python 3 (ipykernel)",
   "language": "python",
   "name": "python3"
  },
  "language_info": {
   "codemirror_mode": {
    "name": "ipython",
    "version": 3
   },
   "file_extension": ".py",
   "mimetype": "text/x-python",
   "name": "python",
   "nbconvert_exporter": "python",
   "pygments_lexer": "ipython3",
   "version": "3.10.9"
  }
 },
 "nbformat": 4,
 "nbformat_minor": 5
}
