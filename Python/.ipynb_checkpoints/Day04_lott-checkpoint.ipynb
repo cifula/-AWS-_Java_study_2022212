{
 "cells": [
  {
   "cell_type": "code",
   "execution_count": 176,
   "id": "cb353a81",
   "metadata": {},
   "outputs": [
    {
     "name": "stdout",
     "output_type": "stream",
     "text": [
      "[['5', '17', '26', '27', '35', '38', '1'], ['21', '26', '30', '32', '33', '35', '44'], ['6', '12', '31', '35', '38', '43', '17']]\n"
     ]
    }
   ],
   "source": [
    "csv_data = []\n",
    "with open('data/lott.csv') as f:\n",
    "    for line in f:\n",
    "        csv_data.append(line.replace('\\n','').split(','))\n",
    "print(csv_data[:3])"
   ]
  },
  {
   "cell_type": "code",
   "execution_count": 177,
   "id": "a277d9d0",
   "metadata": {},
   "outputs": [
    {
     "name": "stdout",
     "output_type": "stream",
     "text": [
      "['5', '17', '26', '27', '35', '38', '1']\n"
     ]
    }
   ],
   "source": [
    "print(csv_data[0])"
   ]
  },
  {
   "cell_type": "code",
   "execution_count": 178,
   "id": "615ef7a0",
   "metadata": {},
   "outputs": [
    {
     "name": "stdout",
     "output_type": "stream",
     "text": [
      "[[5, 17, 26, 27, 35, 38, 1], [21, 26, 30, 32, 33, 35, 44], [6, 12, 31, 35, 38, 43, 17]]\n"
     ]
    }
   ],
   "source": [
    "for e in csv_data:\n",
    "    for i,s in enumerate(e):\n",
    "        e[i] = int(s)\n",
    "print(csv_data[:3])"
   ]
  },
  {
   "cell_type": "code",
   "execution_count": 201,
   "id": "4c4525e4",
   "metadata": {},
   "outputs": [
    {
     "name": "stdout",
     "output_type": "stream",
     "text": [
      "26\n",
      "[-20.285714285714285, -16.285714285714285, -4.285714285714285, 4.714285714285715, 5.714285714285715, 13.714285714285715, 16.714285714285715]\n",
      "202.90476190476184\n",
      "14.244464254746893\n"
     ]
    }
   ],
   "source": [
    "import math\n",
    "\n",
    "def mean(num_list):\n",
    "    sum_value = 0\n",
    "    for s in num_list:\n",
    "        sum_value += s\n",
    "    return sum_value / len(num_list)\n",
    "        \n",
    "def median(num_list):\n",
    "    num_list.sort()\n",
    "    n = len(num_list) // 2\n",
    "    if n % 2 == 1:\n",
    "        return num_list[n]\n",
    "    elif len(num_list) % 2 == 0:\n",
    "        return ((num_list[n-1] + num_list[n])/2)\n",
    "        \n",
    "def dev(num_list):\n",
    "    m = mean(num_list)\n",
    "    return [x - m for x in num_list]\n",
    "\n",
    "def var(num_list):\n",
    "    n = len(num_list)\n",
    "    d = dev(num_list)\n",
    "    return sum([x*x for x in d])/(n-1)\n",
    "\n",
    "def stdev(num_list):\n",
    "    return math.sqrt(var(num_list))\n",
    "    \n",
    "game1 = csv_data[0]\n",
    "\n",
    "print(median(game1))\n",
    "assert median([5, 17, 26, 27, 35, 38, 1]) == 26\n",
    "\n",
    "\n",
    "print(dev([1, 5, 17, 26, 27, 35, 38]))\n",
    "print(var(dev([1, 5, 17, 26, 27, 35, 38])))\n",
    "print(stdev([1, 5, 17, 26, 27, 35, 38]))"
   ]
  },
  {
   "cell_type": "code",
   "execution_count": 185,
   "id": "8829cef3",
   "metadata": {},
   "outputs": [
    {
     "name": "stdout",
     "output_type": "stream",
     "text": [
      "list_a:  [5, 17, 26, 27, 35, 38, 1]\n",
      "list_b:  [5, 17, 26, 27, 35, 38, 1]\n",
      "list_a:  [100, 17, 26, 27, 35, 38, 1]\n",
      "list_b:  [100, 17, 26, 27, 35, 38, 1]\n"
     ]
    }
   ],
   "source": [
    "# in-place\n",
    "list_a = [5, 17, 26, 27, 35, 38, 1]\n",
    "list_b = list_a # shallow copy, 얕은 복사\n",
    "print('list_a: ', list_a)\n",
    "print('list_b: ', list_b)\n",
    "list_a[0] = 100\n",
    "print('list_a: ', list_a)\n",
    "print('list_b: ', list_b)"
   ]
  },
  {
   "cell_type": "code",
   "execution_count": 186,
   "id": "88190d0a",
   "metadata": {},
   "outputs": [
    {
     "name": "stdout",
     "output_type": "stream",
     "text": [
      "list_a:  [5, 17, 26, 27, 35, 38, 1]\n",
      "list_b:  [5, 17, 26, 27, 35, 38, 1]\n",
      "list_a:  [100, 17, 26, 27, 35, 38, 1]\n",
      "list_b:  [100, 17, 26, 27, 35, 38, 1]\n"
     ]
    }
   ],
   "source": [
    "# in-place\n",
    "list_a = [5, 17, 26, 27, 35, 38, 1]\n",
    "list_b = list_a\n",
    "print('list_a: ', list_a)\n",
    "print('list_b: ', list_b)\n",
    "list_a[0] = 100\n",
    "print('list_a: ', list_a)\n",
    "print('list_b: ', list_b)"
   ]
  },
  {
   "cell_type": "code",
   "execution_count": 187,
   "id": "e72d5f64",
   "metadata": {},
   "outputs": [
    {
     "name": "stdout",
     "output_type": "stream",
     "text": [
      "13.053860729512081\n"
     ]
    }
   ],
   "source": [
    "data_list = []\n",
    "with open('data/전국보행자전용도로표준데이터.csv') as f:\n",
    "    for line in f:\n",
    "        data_list.append(line.split(','))\n",
    "data_list = data_list[1:]\n",
    "\n",
    "def mean_of_index(target_list, index_num):\n",
    "    sum_value = 0\n",
    "    sum_length = 0\n",
    "    for i in target_list:\n",
    "        s_num = i[index_num]\n",
    "        if s_num.strip():\n",
    "            s_num = float(s_num)\n",
    "            sum_value += s_num\n",
    "            sum_length += 1\n",
    "    return sum_value / sum_length if sum_length else 0\n",
    "\n",
    "s = mean_of_index(data_list, 15)\n",
    "print(s)"
   ]
  }
 ],
 "metadata": {
  "kernelspec": {
   "display_name": "Python 3 (ipykernel)",
   "language": "python",
   "name": "python3"
  },
  "language_info": {
   "codemirror_mode": {
    "name": "ipython",
    "version": 3
   },
   "file_extension": ".py",
   "mimetype": "text/x-python",
   "name": "python",
   "nbconvert_exporter": "python",
   "pygments_lexer": "ipython3",
   "version": "3.10.9"
  }
 },
 "nbformat": 4,
 "nbformat_minor": 5
}
