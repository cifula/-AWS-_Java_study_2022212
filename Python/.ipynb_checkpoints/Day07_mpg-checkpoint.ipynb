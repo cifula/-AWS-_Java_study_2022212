{
 "cells": [
  {
   "cell_type": "markdown",
   "id": "c2e4cd33",
   "metadata": {},
   "source": [
    "자동차 연비 데이터 정제\n",
    "uci repo url: https://archive.ics.uci.edu/ml/machine-learning-databases/auto-mpg/auto-mpg.data"
   ]
  },
  {
   "cell_type": "code",
   "execution_count": 6,
   "id": "19ec4d13",
   "metadata": {},
   "outputs": [],
   "source": [
    "import requests"
   ]
  },
  {
   "cell_type": "code",
   "execution_count": 142,
   "id": "4bea4a2e",
   "metadata": {},
   "outputs": [],
   "source": [
    "x = requests.get('https://archive.ics.uci.edu/ml/machine-learning-databases/auto-mpg/auto-mpg.data')"
   ]
  },
  {
   "cell_type": "code",
   "execution_count": 151,
   "id": "96c7449a",
   "metadata": {},
   "outputs": [],
   "source": [
    "import math\n",
    "\n",
    "def mean(num_list):\n",
    "    sum_value = 0\n",
    "    for s in num_list:\n",
    "        sum_value += s\n",
    "    return sum_value / len(num_list)\n",
    "\n",
    "def dev(num_list):\n",
    "    m = mean(num_list)\n",
    "    return [x - m for x in num_list]\n",
    "\n",
    "def var(num_list):\n",
    "    n = len(num_list)\n",
    "    d = dev(num_list)\n",
    "    return sum([x*x for x in d])/(n-1)\n",
    "\n",
    "def stdev(num_list):\n",
    "    return math.sqrt(var(num_list))\n",
    "\n",
    "def covar(list_1, list_2):\n",
    "    n = len(list_1)\n",
    "    list_1_dev = dev(list_1)\n",
    "    list_2_dev = dev(list_2)\n",
    "    return sum(x * y for x, y in zip(list_1_dev, list_2_dev)) / (n-1)\n",
    "\n",
    "def corel(list_1, list_2):\n",
    "    return covar(list_1, list_2) / (stdev(list_1) * stdev(list_2))"
   ]
  },
  {
   "cell_type": "code",
   "execution_count": 144,
   "id": "f29e4a92",
   "metadata": {},
   "outputs": [
    {
     "name": "stdout",
     "output_type": "stream",
     "text": [
      "[['18.0', '8', '307.0', '130.0', '3504.', '12.0', '70', '1', '\"chevrolet chevelle malibu\"'], ['15.0', '8', '350.0', '165.0', '3693.', '11.5', '70', '1', '\"buick skylark 320\"'], ['18.0', '8', '318.0', '150.0', '3436.', '11.0', '70', '1', '\"plymouth satellite\"']]\n"
     ]
    }
   ],
   "source": [
    "pass1 = x.text.split('\\n')   # by-line\n",
    "# print(len(pass1))\n",
    "\n",
    "pass2 = []                   # 각 샘플(줄)별 숫자부분, 차명 부분 분리, split('t')\n",
    "for line in pass1:\n",
    "    pass2.append(line.split('\\t'))\n",
    "\n",
    "pass3 = []                   # 숫자 부분 분리, split(' ')\n",
    "for line in pass2:\n",
    "    try:\n",
    "        y = line[0].split()\n",
    "        y.append(line[1])\n",
    "        pass3.append(y)\n",
    "    except:\n",
    "        pass\n",
    "\n",
    "print(pass3[:3])"
   ]
  },
  {
   "cell_type": "code",
   "execution_count": 145,
   "id": "00f1be12",
   "metadata": {},
   "outputs": [
    {
     "name": "stdout",
     "output_type": "stream",
     "text": [
      "?\n",
      "?\n",
      "?\n",
      "?\n",
      "?\n",
      "?\n",
      "[[18.0, 8.0, 307.0, 130.0, 3504.0, 12.0, 70.0, 1.0, 'chevrolet chevelle malibu'], [15.0, 8.0, 350.0, 165.0, 3693.0, 11.5, 70.0, 1.0, 'buick skylark 320']]\n"
     ]
    }
   ],
   "source": [
    "# float으로 형변환, 차명 \" 제거\n",
    "for e in pass3:\n",
    "    for i, n in enumerate(e[:-1]):\n",
    "        try:\n",
    "            e[i] = float(n)\n",
    "        except:\n",
    "            print(n)\n",
    "            e[i] = 0.0\n",
    "    e[-1] = e[-1].strip('\"')\n",
    "    \n",
    "print(pass3[:2])"
   ]
  },
  {
   "cell_type": "code",
   "execution_count": 146,
   "id": "978e9e84",
   "metadata": {},
   "outputs": [],
   "source": [
    "mpg_list = []\n",
    "disp_list = []\n",
    "\n",
    "for e in pass3:\n",
    "    mpg_list.append(e[0])\n",
    "    disp_list.append(e[2])"
   ]
  },
  {
   "cell_type": "code",
   "execution_count": 147,
   "id": "49baf117",
   "metadata": {},
   "outputs": [
    {
     "name": "stdout",
     "output_type": "stream",
     "text": [
      "연비\n",
      "평균: 23.514572864321615\n",
      "표준편차: 7.815984312565782\n",
      "\n",
      "\n",
      "배기량\n",
      "평균: 193.42587939698493\n",
      "표준편차: 104.26983817119581\n"
     ]
    }
   ],
   "source": [
    "# 연비: 평균, 표준편차\n",
    "print(\"연비\")\n",
    "print(\"평균:\", mean(mpg_list))\n",
    "print(\"표준편차:\", stdev(mpg_list))\n",
    "print(\"\\n\")\n",
    "\n",
    "# 배기량: 평균, 표준편차\n",
    "print(\"배기량\")\n",
    "print(\"평균:\", mean(disp_list))\n",
    "print(\"표준편차:\", stdev(disp_list))"
   ]
  },
  {
   "cell_type": "code",
   "execution_count": 148,
   "id": "089d465d",
   "metadata": {},
   "outputs": [
    {
     "data": {
      "text/plain": [
       "-0.8042028248058988"
      ]
     },
     "execution_count": 148,
     "metadata": {},
     "output_type": "execute_result"
    }
   ],
   "source": [
    "# 상관도\n",
    "corel(mpg_list, disp_list)"
   ]
  },
  {
   "cell_type": "code",
   "execution_count": 150,
   "id": "35ac68ef",
   "metadata": {},
   "outputs": [
    {
     "data": {
      "text/plain": [
       "-0.8317409332443351"
      ]
     },
     "execution_count": 150,
     "metadata": {},
     "output_type": "execute_result"
    }
   ],
   "source": [
    "weight_list = []\n",
    "\n",
    "for e in pass3:\n",
    "    weight_list.append(e[4])\n",
    "\n",
    "\n",
    "# 차체중량(인덱스 4) vs 연비\n",
    "corel(mpg_list, weight_list)"
   ]
  }
 ],
 "metadata": {
  "kernelspec": {
   "display_name": "Python 3 (ipykernel)",
   "language": "python",
   "name": "python3"
  },
  "language_info": {
   "codemirror_mode": {
    "name": "ipython",
    "version": 3
   },
   "file_extension": ".py",
   "mimetype": "text/x-python",
   "name": "python",
   "nbconvert_exporter": "python",
   "pygments_lexer": "ipython3",
   "version": "3.10.9"
  }
 },
 "nbformat": 4,
 "nbformat_minor": 5
}
