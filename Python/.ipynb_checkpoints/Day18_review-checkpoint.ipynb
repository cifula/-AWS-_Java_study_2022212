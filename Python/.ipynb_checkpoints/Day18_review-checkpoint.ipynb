{
 "cells": [
  {
   "cell_type": "code",
   "execution_count": 3,
   "id": "5341c2d6",
   "metadata": {},
   "outputs": [
    {
     "name": "stdout",
     "output_type": "stream",
     "text": [
      "[]\n",
      "['a']\n"
     ]
    }
   ],
   "source": [
    "# python List\n",
    "\n",
    "lista = []\n",
    "print(lista)\n",
    "\n",
    "lista.append('a')\n",
    "print(lista)"
   ]
  },
  {
   "cell_type": "code",
   "execution_count": 15,
   "id": "bfaffe3a",
   "metadata": {},
   "outputs": [
    {
     "name": "stdout",
     "output_type": "stream",
     "text": [
      "[1 4]\n"
     ]
    }
   ],
   "source": [
    "# numpy ndarray\n",
    "import numpy as np\n",
    "array1 = np.array(lista)\n",
    "array2 = np.array([1, 2, 3, 4])\n",
    "array3 = np.array([x for x in range(5)])\n",
    "\n",
    "print(array3[[1, 4]])"
   ]
  },
  {
   "cell_type": "code",
   "execution_count": 43,
   "id": "4d1dce07",
   "metadata": {},
   "outputs": [
    {
     "data": {
      "text/plain": [
       "3"
      ]
     },
     "execution_count": 43,
     "metadata": {},
     "output_type": "execute_result"
    }
   ],
   "source": [
    "import random\n",
    "\n",
    "random.seed(123)\n",
    "\n",
    "listb = []\n",
    "\n",
    "for i in range(10):\n",
    "    listb.append(random.randint(0, 100))\n",
    "\n",
    "listb\n",
    "\n",
    "listc = []\n",
    "\n",
    "listc = [random.randint(0, 100) for _ in range(10)]\n",
    "\n",
    "np_listb = np.array(listb)\n",
    "\n",
    "len(np_listb[np_listb > 50])"
   ]
  },
  {
   "cell_type": "code",
   "execution_count": null,
   "id": "e90beb6d",
   "metadata": {},
   "outputs": [],
   "source": []
  }
 ],
 "metadata": {
  "kernelspec": {
   "display_name": "Python 3 (ipykernel)",
   "language": "python",
   "name": "python3"
  },
  "language_info": {
   "codemirror_mode": {
    "name": "ipython",
    "version": 3
   },
   "file_extension": ".py",
   "mimetype": "text/x-python",
   "name": "python",
   "nbconvert_exporter": "python",
   "pygments_lexer": "ipython3",
   "version": "3.10.9"
  }
 },
 "nbformat": 4,
 "nbformat_minor": 5
}
