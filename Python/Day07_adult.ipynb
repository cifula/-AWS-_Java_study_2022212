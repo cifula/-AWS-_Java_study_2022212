{
 "cells": [
  {
   "cell_type": "code",
   "execution_count": 2,
   "id": "2b8dadb0",
   "metadata": {},
   "outputs": [],
   "source": [
    "import requests"
   ]
  },
  {
   "cell_type": "code",
   "execution_count": 80,
   "id": "cea40b01",
   "metadata": {},
   "outputs": [],
   "source": [
    "x = requests.get('https://archive.ics.uci.edu/ml/machine-learning-databases/adult/adult.data')"
   ]
  },
  {
   "cell_type": "code",
   "execution_count": 82,
   "id": "7fa1c8a8",
   "metadata": {},
   "outputs": [],
   "source": [
    "pass1 = x.text.split('\\n')\n",
    "# index 10 = 연봉\n",
    "# index 12 = 주 근무시간"
   ]
  },
  {
   "cell_type": "code",
   "execution_count": 83,
   "id": "f885c1f7",
   "metadata": {},
   "outputs": [],
   "source": [
    "import math\n",
    "\n",
    "def mean(num_list):\n",
    "    sum_value = 0\n",
    "    for s in num_list:\n",
    "        sum_value += s\n",
    "    return sum_value / len(num_list)\n",
    "\n",
    "def dev(num_list):\n",
    "    m = mean(num_list)\n",
    "    return [x - m for x in num_list]\n",
    "\n",
    "def var(num_list):\n",
    "    n = len(num_list)\n",
    "    d = dev(num_list)\n",
    "    return sum([x*x for x in d])/(n-1)\n",
    "\n",
    "def stdev(num_list):\n",
    "    return math.sqrt(var(num_list))\n",
    "\n",
    "def covar(list_1, list_2):\n",
    "    n = len(list_1)\n",
    "    list_1_dev = dev(list_1)\n",
    "    list_2_dev = dev(list_2)\n",
    "    return sum(x * y for x, y in zip(list_1_dev, list_2_dev)) / (n-1)\n",
    "\n",
    "def corel(list_1, list_2):\n",
    "    return covar(list_1, list_2) / (stdev(list_1) * stdev(list_2))"
   ]
  },
  {
   "cell_type": "code",
   "execution_count": 106,
   "id": "ab0e885b",
   "metadata": {},
   "outputs": [
    {
     "name": "stdout",
     "output_type": "stream",
     "text": [
      "[39.0, ' State-gov', ' 77516', ' Bachelors', ' 13', ' Never-married', ' Adm-clerical', ' Not-in-family', ' White', ' Male', 2174.0, ' 0', 40.0, ' United-States', ' <=50K']\n"
     ]
    }
   ],
   "source": [
    "pass2 = []\n",
    "for line in pass1:\n",
    "    pass2.append(line.split(','))\n",
    "    \n",
    "for e in pass2:\n",
    "    try:\n",
    "        e[0] = float(e[0])\n",
    "    except:\n",
    "        e[0] = 0\n",
    " \n",
    "for e in pass2:\n",
    "    try:\n",
    "        e[10] = float(e[10])\n",
    "    except:\n",
    "        e = 0\n",
    "\n",
    "for e in pass2:\n",
    "    try:\n",
    "        e[12] = float(e[12])\n",
    "    except:\n",
    "        e = 0\n",
    "        \n",
    "print(pass2[0])"
   ]
  },
  {
   "cell_type": "code",
   "execution_count": 104,
   "id": "97c75ed3",
   "metadata": {},
   "outputs": [],
   "source": [
    "# 나이\n",
    "age = []\n",
    "for e in pass2:\n",
    "    age.append(e[0])\n",
    "    \n",
    "# 연봉\n",
    "capital_gain = []\n",
    "for e in pass2:\n",
    "    try:\n",
    "        capital_gain.append(e[10])\n",
    "    except:\n",
    "        capital_gain.append(0)\n",
    "\n",
    "# 주 근무시간\n",
    "hours_per_week = []\n",
    "for e in pass2:\n",
    "    try:\n",
    "        hours_per_week.append(e[12])\n",
    "    except:\n",
    "        hours_per_week.append(0)"
   ]
  },
  {
   "cell_type": "code",
   "execution_count": 108,
   "id": "f59bfa1f",
   "metadata": {},
   "outputs": [
    {
     "name": "stdout",
     "output_type": "stream",
     "text": [
      "age / capital gain 상관도\n",
      "0.07768071421914972\n",
      "\n",
      "\n",
      "hours-per-week / capital_gain 상관도\n",
      "0.07841209247519082\n",
      "\n",
      "\n",
      "age / hours-per-week  상관도\n",
      "0.06928481974508292\n"
     ]
    }
   ],
   "source": [
    "# age / capital gain 상관도\n",
    "print(\"age / capital gain 상관도\")\n",
    "print(corel(age, capital_gain))\n",
    "\n",
    "print(\"\\n\")\n",
    "\n",
    "# hours-per-week / capital_gain 상관도\n",
    "print(\"hours-per-week / capital_gain 상관도\")\n",
    "print(corel(hours_per_week, capital_gain))\n",
    "\n",
    "print(\"\\n\")\n",
    "\n",
    "# age / hours-per-week  상관도\n",
    "print(\"age / hours-per-week  상관도\")\n",
    "print(corel(age, hours_per_week))"
   ]
  }
 ],
 "metadata": {
  "kernelspec": {
   "display_name": "Python 3 (ipykernel)",
   "language": "python",
   "name": "python3"
  },
  "language_info": {
   "codemirror_mode": {
    "name": "ipython",
    "version": 3
   },
   "file_extension": ".py",
   "mimetype": "text/x-python",
   "name": "python",
   "nbconvert_exporter": "python",
   "pygments_lexer": "ipython3",
   "version": "3.10.9"
  }
 },
 "nbformat": 4,
 "nbformat_minor": 5
}
