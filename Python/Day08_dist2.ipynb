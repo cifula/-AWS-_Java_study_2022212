{
 "cells": [
  {
   "cell_type": "code",
   "execution_count": 145,
   "id": "79f0b188",
   "metadata": {},
   "outputs": [],
   "source": [
    "import numpy as np\n",
    "import math"
   ]
  },
  {
   "cell_type": "code",
   "execution_count": 163,
   "id": "c95ea332",
   "metadata": {},
   "outputs": [],
   "source": [
    "csv_data = []\n",
    "with open('data/전국자동차정비업체표준데이터.csv') as f:\n",
    "    for line in f:\n",
    "        csv_data.append(line.split(','))\n",
    "csv_data = csv_data[1:]"
   ]
  },
  {
   "cell_type": "code",
   "execution_count": 164,
   "id": "028d5593",
   "metadata": {},
   "outputs": [
    {
     "name": "stdout",
     "output_type": "stream",
     "text": [
      "['주식회사 이에스티', '1', '충청북도 진천군 이월면 이덕로 267', '', '36.9337494', '127.4605018', '2016-02-17', '8821.34', '1', '', '', '', '09:00', '18:00', '043-532-8228', '충청북도 진천군', '043-539-3073', '2021-10-22', '1613000', '국토교통부\\n']\n"
     ]
    }
   ],
   "source": [
    "print(csv_data[1])"
   ]
  },
  {
   "cell_type": "code",
   "execution_count": 165,
   "id": "1783f411",
   "metadata": {},
   "outputs": [],
   "source": [
    "coord_data = []\n",
    "\n",
    "for line in csv_data:\n",
    "    try:\n",
    "        coord = [float(line[4]), float(line[5])]\n",
    "        name = line[0]\n",
    "    except:\n",
    "        coord = [0, 0]\n",
    "        name = 'null'\n",
    "    \n",
    "    coord = [name, coord]\n",
    "    coord_data.append(coord)"
   ]
  },
  {
   "cell_type": "code",
   "execution_count": 166,
   "id": "153559ff",
   "metadata": {},
   "outputs": [],
   "source": [
    "def dist(p1, p2):\n",
    "    p1 = np.array(p1, dtype = float)\n",
    "    p2 = np.array(p2, dtype = float)\n",
    "    \n",
    "    r = p1 - p2\n",
    "    r = math.sqrt(sum(r * r))\n",
    "    return r"
   ]
  },
  {
   "cell_type": "code",
   "execution_count": 213,
   "id": "888f1d08",
   "metadata": {},
   "outputs": [
    {
     "data": {
      "text/plain": [
       "[['카젠범천점', 0.00422751591405875],\n",
       " ['경남카서비스', 0.004664402222051449],\n",
       " ['한국타이어 전포대리점', 0.005492081395315601],\n",
       " ['타이어프로원스탑 전포점', 0.005953129867528799],\n",
       " ['SC MOTORS', 0.006143105629974679]]"
      ]
     },
     "execution_count": 213,
     "metadata": {},
     "output_type": "execute_result"
    }
   ],
   "source": [
    "def findNearestDist(p1):\n",
    "    coord = np.array(p1)\n",
    "    distList = []\n",
    "    \n",
    "    for line in coord_data:\n",
    "        try:\n",
    "            r = dist(coord, line[1])\n",
    "        except:\n",
    "            pass\n",
    "        distList.append([line[0], r])\n",
    "    \n",
    "    distList.sort(key=lambda x: x[1])\n",
    "    \n",
    "    return distList[:5]\n",
    "\n",
    "p1 = [35.1531, 129.0596]\n",
    "\n",
    "findNearestDist(p1)"
   ]
  }
 ],
 "metadata": {
  "kernelspec": {
   "display_name": "Python 3 (ipykernel)",
   "language": "python",
   "name": "python3"
  },
  "language_info": {
   "codemirror_mode": {
    "name": "ipython",
    "version": 3
   },
   "file_extension": ".py",
   "mimetype": "text/x-python",
   "name": "python",
   "nbconvert_exporter": "python",
   "pygments_lexer": "ipython3",
   "version": "3.10.9"
  }
 },
 "nbformat": 4,
 "nbformat_minor": 5
}
